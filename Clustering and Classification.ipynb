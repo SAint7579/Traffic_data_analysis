{
 "cells": [
  {
   "cell_type": "code",
   "execution_count": 2,
   "metadata": {
    "collapsed": true
   },
   "outputs": [],
   "source": [
    "import pandas as pd\n",
    "import numpy as np\n",
    "from sklearn.cluster import KMeans\n",
    "from sklearn.preprocessing import StandardScaler\n",
    "import matplotlib.pyplot as plt"
   ]
  },
  {
   "cell_type": "code",
   "execution_count": 8,
   "metadata": {},
   "outputs": [
    {
     "data": {
      "text/html": [
       "<div>\n",
       "<style>\n",
       "    .dataframe thead tr:only-child th {\n",
       "        text-align: right;\n",
       "    }\n",
       "\n",
       "    .dataframe thead th {\n",
       "        text-align: left;\n",
       "    }\n",
       "\n",
       "    .dataframe tbody tr th {\n",
       "        vertical-align: top;\n",
       "    }\n",
       "</style>\n",
       "<table border=\"1\" class=\"dataframe\">\n",
       "  <thead>\n",
       "    <tr style=\"text-align: right;\">\n",
       "      <th></th>\n",
       "      <th>Unnamed: 0</th>\n",
       "      <th>Area</th>\n",
       "      <th>2015-10-04 00:00:00</th>\n",
       "      <th>2015-10-04 00:05:00</th>\n",
       "      <th>2015-10-04 00:10:00</th>\n",
       "      <th>2015-10-04 00:15:00</th>\n",
       "      <th>2015-10-04 00:20:00</th>\n",
       "      <th>2015-10-04 00:25:00</th>\n",
       "      <th>2015-10-04 00:30:00</th>\n",
       "      <th>2015-10-04 00:35:00</th>\n",
       "      <th>...</th>\n",
       "      <th>2015-10-04 23:10:00</th>\n",
       "      <th>2015-10-04 23:15:00</th>\n",
       "      <th>2015-10-04 23:20:00</th>\n",
       "      <th>2015-10-04 23:25:00</th>\n",
       "      <th>2015-10-04 23:30:00</th>\n",
       "      <th>2015-10-04 23:35:00</th>\n",
       "      <th>2015-10-04 23:40:00</th>\n",
       "      <th>2015-10-04 23:45:00</th>\n",
       "      <th>2015-10-04 23:50:00</th>\n",
       "      <th>2015-10-04 23:55:00</th>\n",
       "    </tr>\n",
       "  </thead>\n",
       "  <tbody>\n",
       "    <tr>\n",
       "      <th>0</th>\n",
       "      <td>0</td>\n",
       "      <td>A1</td>\n",
       "      <td>3</td>\n",
       "      <td>12</td>\n",
       "      <td>4</td>\n",
       "      <td>9</td>\n",
       "      <td>5</td>\n",
       "      <td>14</td>\n",
       "      <td>4</td>\n",
       "      <td>4</td>\n",
       "      <td>...</td>\n",
       "      <td>6</td>\n",
       "      <td>2</td>\n",
       "      <td>11</td>\n",
       "      <td>8</td>\n",
       "      <td>6</td>\n",
       "      <td>8</td>\n",
       "      <td>8</td>\n",
       "      <td>5</td>\n",
       "      <td>9</td>\n",
       "      <td>5</td>\n",
       "    </tr>\n",
       "    <tr>\n",
       "      <th>1</th>\n",
       "      <td>1</td>\n",
       "      <td>A2</td>\n",
       "      <td>6</td>\n",
       "      <td>0</td>\n",
       "      <td>8</td>\n",
       "      <td>4</td>\n",
       "      <td>4</td>\n",
       "      <td>4</td>\n",
       "      <td>2</td>\n",
       "      <td>5</td>\n",
       "      <td>...</td>\n",
       "      <td>3</td>\n",
       "      <td>3</td>\n",
       "      <td>7</td>\n",
       "      <td>4</td>\n",
       "      <td>4</td>\n",
       "      <td>7</td>\n",
       "      <td>2</td>\n",
       "      <td>2</td>\n",
       "      <td>6</td>\n",
       "      <td>4</td>\n",
       "    </tr>\n",
       "    <tr>\n",
       "      <th>2</th>\n",
       "      <td>2</td>\n",
       "      <td>A3</td>\n",
       "      <td>7</td>\n",
       "      <td>6</td>\n",
       "      <td>10</td>\n",
       "      <td>4</td>\n",
       "      <td>7</td>\n",
       "      <td>3</td>\n",
       "      <td>1</td>\n",
       "      <td>4</td>\n",
       "      <td>...</td>\n",
       "      <td>0</td>\n",
       "      <td>0</td>\n",
       "      <td>10</td>\n",
       "      <td>12</td>\n",
       "      <td>10</td>\n",
       "      <td>12</td>\n",
       "      <td>5</td>\n",
       "      <td>2</td>\n",
       "      <td>12</td>\n",
       "      <td>9</td>\n",
       "    </tr>\n",
       "    <tr>\n",
       "      <th>3</th>\n",
       "      <td>3</td>\n",
       "      <td>A4</td>\n",
       "      <td>11</td>\n",
       "      <td>3</td>\n",
       "      <td>6</td>\n",
       "      <td>7</td>\n",
       "      <td>3</td>\n",
       "      <td>10</td>\n",
       "      <td>6</td>\n",
       "      <td>5</td>\n",
       "      <td>...</td>\n",
       "      <td>0</td>\n",
       "      <td>1</td>\n",
       "      <td>10</td>\n",
       "      <td>11</td>\n",
       "      <td>8</td>\n",
       "      <td>7</td>\n",
       "      <td>4</td>\n",
       "      <td>3</td>\n",
       "      <td>6</td>\n",
       "      <td>5</td>\n",
       "    </tr>\n",
       "    <tr>\n",
       "      <th>4</th>\n",
       "      <td>4</td>\n",
       "      <td>A5</td>\n",
       "      <td>7</td>\n",
       "      <td>7</td>\n",
       "      <td>10</td>\n",
       "      <td>13</td>\n",
       "      <td>7</td>\n",
       "      <td>16</td>\n",
       "      <td>12</td>\n",
       "      <td>7</td>\n",
       "      <td>...</td>\n",
       "      <td>15</td>\n",
       "      <td>16</td>\n",
       "      <td>36</td>\n",
       "      <td>26</td>\n",
       "      <td>17</td>\n",
       "      <td>24</td>\n",
       "      <td>13</td>\n",
       "      <td>8</td>\n",
       "      <td>12</td>\n",
       "      <td>8</td>\n",
       "    </tr>\n",
       "  </tbody>\n",
       "</table>\n",
       "<p>5 rows × 290 columns</p>\n",
       "</div>"
      ],
      "text/plain": [
       "   Unnamed: 0 Area  2015-10-04 00:00:00  2015-10-04 00:05:00  \\\n",
       "0           0   A1                    3                   12   \n",
       "1           1   A2                    6                    0   \n",
       "2           2   A3                    7                    6   \n",
       "3           3   A4                   11                    3   \n",
       "4           4   A5                    7                    7   \n",
       "\n",
       "   2015-10-04 00:10:00  2015-10-04 00:15:00  2015-10-04 00:20:00  \\\n",
       "0                    4                    9                    5   \n",
       "1                    8                    4                    4   \n",
       "2                   10                    4                    7   \n",
       "3                    6                    7                    3   \n",
       "4                   10                   13                    7   \n",
       "\n",
       "   2015-10-04 00:25:00  2015-10-04 00:30:00  2015-10-04 00:35:00  \\\n",
       "0                   14                    4                    4   \n",
       "1                    4                    2                    5   \n",
       "2                    3                    1                    4   \n",
       "3                   10                    6                    5   \n",
       "4                   16                   12                    7   \n",
       "\n",
       "          ...           2015-10-04 23:10:00  2015-10-04 23:15:00  \\\n",
       "0         ...                             6                    2   \n",
       "1         ...                             3                    3   \n",
       "2         ...                             0                    0   \n",
       "3         ...                             0                    1   \n",
       "4         ...                            15                   16   \n",
       "\n",
       "   2015-10-04 23:20:00  2015-10-04 23:25:00  2015-10-04 23:30:00  \\\n",
       "0                   11                    8                    6   \n",
       "1                    7                    4                    4   \n",
       "2                   10                   12                   10   \n",
       "3                   10                   11                    8   \n",
       "4                   36                   26                   17   \n",
       "\n",
       "   2015-10-04 23:35:00  2015-10-04 23:40:00  2015-10-04 23:45:00  \\\n",
       "0                    8                    8                    5   \n",
       "1                    7                    2                    2   \n",
       "2                   12                    5                    2   \n",
       "3                    7                    4                    3   \n",
       "4                   24                   13                    8   \n",
       "\n",
       "   2015-10-04 23:50:00  2015-10-04 23:55:00  \n",
       "0                    9                    5  \n",
       "1                    6                    4  \n",
       "2                   12                    9  \n",
       "3                    6                    5  \n",
       "4                   12                    8  \n",
       "\n",
       "[5 rows x 290 columns]"
      ]
     },
     "execution_count": 8,
     "metadata": {},
     "output_type": "execute_result"
    }
   ],
   "source": [
    "#Importing dataset\n",
    "dataset = pd.read_csv(\"dataset.csv\")\n",
    "dataset.head()"
   ]
  },
  {
   "cell_type": "code",
   "execution_count": 12,
   "metadata": {
    "collapsed": true
   },
   "outputs": [],
   "source": [
    "#Getting np array\n",
    "data= dataset.iloc[:,2:].values"
   ]
  },
  {
   "cell_type": "code",
   "execution_count": 14,
   "metadata": {
    "scrolled": true
   },
   "outputs": [
    {
     "name": "stderr",
     "output_type": "stream",
     "text": [
      "C:\\Users\\Admin\\Anaconda3\\lib\\site-packages\\sklearn\\utils\\validation.py:475: DataConversionWarning: Data with input dtype int64 was converted to float64 by StandardScaler.\n",
      "  warnings.warn(msg, DataConversionWarning)\n"
     ]
    }
   ],
   "source": [
    "scaler = StandardScaler()\n",
    "#Scaling the data to handle euclidian distances\n",
    "data = scaler.fit_transform(data)"
   ]
  },
  {
   "cell_type": "markdown",
   "metadata": {},
   "source": [
    "## Plotting Elbow graph\n",
    "\n",
    "This graph is used to identify the number of clusters that might be pressent in a dataset. <br>\n",
    "<b>Method: </b><br>\n",
    "We calcuate/fetch a value from a cluster called WCSS or Within Cluster Sum of Squares. It is the sum of the square of all distances from a point to its final centroid. This value can be fetched using a property called <i>inertia_</i> from a cluster object"
   ]
  },
  {
   "cell_type": "code",
   "execution_count": 16,
   "metadata": {},
   "outputs": [
    {
     "data": {
      "image/png": "[encoded data removed]",
      "text/plain": [
       "<Figure size 432x288 with 1 Axes>"
      ]
     },
     "metadata": {},
     "output_type": "display_data"
    }
   ],
   "source": [
    "#Finding the number of clusters\n",
    "wcss = []\n",
    "#Gettign all cluster from 1 to 10 centroids\n",
    "for x in range(1,10):\n",
    "    km_final = KMeans(n_clusters=x , init = 'k-means++',max_iter = 100, n_init = 10, random_state=0)\n",
    "    km_final.fit(data)\n",
    "    #Appending the inertia to the wcss\n",
    "    wcss.append(km_final.inertia_)\n",
    "    \n",
    "#Plotting the graph\n",
    "plt.plot(range(1,10),wcss)\n",
    "plt.title(\"The Elbow Method\")\n",
    "plt.show()"
   ]
  },
  {
   "cell_type": "markdown",
   "metadata": {},
   "source": [
    "### Analysis of elbow graph\n",
    "As the number of number of centroids/clusters increase, the WCSS of the cluster object decreases. Eventually, when the number of clusters is equal to number of points, the total wcss will be 0. However, if there is an appropriate number of centroids, after reaching that value, the decrease in WCSS will stop decreasing drastically. That point is called the elbow point and it's the appropriate number of clusters in that dataset.\n",
    "<br><br>\n",
    "The elbow at 3 represents that there are 3 classes in the dataset"
   ]
  },
  {
   "cell_type": "code",
   "execution_count": 21,
   "metadata": {},
   "outputs": [
    {
     "data": {
      "text/plain": [
       "KMeans(algorithm='auto', copy_x=True, init='k-means++', max_iter=300,\n",
       "    n_clusters=3, n_init=10, n_jobs=1, precompute_distances='auto',\n",
       "    random_state=0, tol=0.0001, verbose=0)"
      ]
     },
     "execution_count": 21,
     "metadata": {},
     "output_type": "execute_result"
    }
   ],
   "source": [
    "#Applying K-means to our data set\n",
    "km_final = KMeans(n_clusters=3 , init = 'k-means++',max_iter = 300)\n",
    "#Fitting the data\n",
    "km_final.fit(data)\n"
   ]
  },
  {
   "cell_type": "code",
   "execution_count": 22,
   "metadata": {
    "collapsed": true
   },
   "outputs": [],
   "source": [
    "labels = km_final.predict(data)"
   ]
  },
  {
   "cell_type": "code",
   "execution_count": 23,
   "metadata": {},
   "outputs": [
    {
     "data": {
      "text/plain": [
       "array([0, 0, 0, 0, 0, 0, 2, 2, 2, 2, 0, 0, 0, 0, 0, 0, 0, 0, 2, 0, 0, 0, 2,\n",
       "       0, 0, 0, 0, 0, 2, 2, 2, 0, 1, 2, 0])"
      ]
     },
     "execution_count": 23,
     "metadata": {},
     "output_type": "execute_result"
    }
   ],
   "source": [
    "labels"
   ]
  },
  {
   "cell_type": "markdown",
   "metadata": {},
   "source": [
    "### Making the classifier on cluster neighbours"
   ]
  },
  {
   "cell_type": "code",
   "execution_count": 24,
   "metadata": {
    "collapsed": true
   },
   "outputs": [],
   "source": [
    "from sklearn.base"
   ]
  },
  {
   "cell_type": "code",
   "execution_count": 25,
   "metadata": {},
   "outputs": [
    {
     "data": {
      "text/plain": [
       "DecisionTreeClassifier(class_weight=None, criterion='gini', max_depth=None,\n",
       "            max_features=None, max_leaf_nodes=None,\n",
       "            min_impurity_decrease=0.0, min_impurity_split=None,\n",
       "            min_samples_leaf=1, min_samples_split=2,\n",
       "            min_weight_fraction_leaf=0.0, presort=False, random_state=None,\n",
       "            splitter='best')"
      ]
     },
     "execution_count": 25,
     "metadata": {},
     "output_type": "execute_result"
    }
   ],
   "source": [
    "#Training a decision tree classifier to \n",
    "classifier = DecisionTreeClassifier()\n",
    "classifier.fit(data,labels)"
   ]
  },
  {
   "cell_type": "code",
   "execution_count": null,
   "metadata": {
    "collapsed": true
   },
   "outputs": [],
   "source": []
  }
 ],
 "metadata": {
  "kernelspec": {
   "display_name": "Python 3",
   "language": "python",
   "name": "python3"
  },
  "language_info": {
   "codemirror_mode": {
    "name": "ipython",
    "version": 3
   },
   "file_extension": ".py",
   "mimetype": "text/x-python",
   "name": "python",
   "nbconvert_exporter": "python",
   "pygments_lexer": "ipython3",
   "version": "3.6.3"
  }
 },
 "nbformat": 4,
 "nbformat_minor": 2
}
