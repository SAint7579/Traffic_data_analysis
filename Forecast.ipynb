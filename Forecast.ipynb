{
 "cells": [
  {
   "cell_type": "code",
   "execution_count": 8,
   "metadata": {
    "collapsed": true
   },
   "outputs": [],
   "source": [
    "import pandas as pd\n",
    "import numpy as np\n",
    "import datetime\n",
    "import matplotlib.pyplot as plt"
   ]
  },
  {
   "cell_type": "code",
   "execution_count": 9,
   "metadata": {
    "collapsed": true
   },
   "outputs": [],
   "source": [
    "dataset = pd.read_csv('train13519.csv')\n",
    "np_array = dataset.iloc[:,:].values"
   ]
  },
  {
   "cell_type": "markdown",
   "metadata": {},
   "source": [
    "### Adding derived parameters"
   ]
  },
  {
   "cell_type": "code",
   "execution_count": 10,
   "metadata": {
    "collapsed": true
   },
   "outputs": [],
   "source": [
    "day_of_week = []\n",
    "month = []\n",
    "for i in range(len(np_array)):\n",
    "    #Getting the day of week for detecting weekends\n",
    "    day = datetime.datetime.strptime(np_array[i][0], '%Y-%m-%d %H:%M:%S').strftime('%a')\n",
    "    day_of_week.append(day)  \n",
    "    #Getting the month for vacation times\n",
    "    mon = int(datetime.datetime.strptime(np_array[i][0], '%Y-%m-%d %H:%M:%S').strftime('%m'))\n",
    "    month.append(mon)"
   ]
  },
  {
   "cell_type": "code",
   "execution_count": 11,
   "metadata": {
    "collapsed": true
   },
   "outputs": [],
   "source": [
    "dataset['day'] = day_of_week\n",
    "dataset['month'] = month"
   ]
  },
  {
   "cell_type": "code",
   "execution_count": 12,
   "metadata": {
    "collapsed": true
   },
   "outputs": [],
   "source": [
    "rev_data = dataset.iloc[:,1:].values"
   ]
  },
  {
   "cell_type": "code",
   "execution_count": 13,
   "metadata": {
    "collapsed": true
   },
   "outputs": [],
   "source": [
    "#Importing the preprocessing libraries\n",
    "from sklearn.preprocessing import LabelEncoder, OneHotEncoder, MinMaxScaler"
   ]
  },
  {
   "cell_type": "code",
   "execution_count": 14,
   "metadata": {
    "collapsed": true
   },
   "outputs": [],
   "source": [
    "#Converting categorical to numerical data\n",
    "enc1 = LabelEncoder()\n",
    "rev_data[:,1] = enc1.fit_transform(rev_data[:,1]) \n",
    "one_hot_encoder = OneHotEncoder(categorical_features=[1,2])\n",
    "rev_data = one_hot_encoder.fit_transform(rev_data).toarray()\n",
    "\n",
    "#Scaling the values\n",
    "scl = MinMaxScaler()\n",
    "rev_data[:,-1] = scl.fit_transform(rev_data[:,-1].reshape(-1,1)).reshape(-1)\n"
   ]
  },
  {
   "cell_type": "code",
   "execution_count": 15,
   "metadata": {},
   "outputs": [
    {
     "data": {
      "text/plain": [
       "(26496, 12)"
      ]
     },
     "execution_count": 15,
     "metadata": {},
     "output_type": "execute_result"
    }
   ],
   "source": [
    "rev_data.shape"
   ]
  },
  {
   "cell_type": "code",
   "execution_count": 16,
   "metadata": {
    "collapsed": true
   },
   "outputs": [],
   "source": [
    "#Creating X and Y dataset\n",
    "\n",
    "X = rev_data[0:-1,:]\n",
    "Y = rev_data[1:,-1]\n",
    "#Creating test and train dataset\n",
    "X = X.reshape(X.shape[0],1,X.shape[1])\n",
    "X_train = X[:-25000,:]\n",
    "Y_train = Y[:-25000]\n",
    "X_test = X[25000:,:]\n",
    "Y_test = Y[25000:]\n",
    "\n"
   ]
  },
  {
   "cell_type": "code",
   "execution_count": 17,
   "metadata": {},
   "outputs": [
    {
     "data": {
      "text/plain": [
       "array([[[ 0.   ,  0.   ,  0.   , ...,  0.   ,  0.   ,  0.024]],\n",
       "\n",
       "       [[ 0.   ,  0.   ,  0.   , ...,  0.   ,  0.   ,  0.096]],\n",
       "\n",
       "       [[ 0.   ,  0.   ,  0.   , ...,  0.   ,  0.   ,  0.032]],\n",
       "\n",
       "       ..., \n",
       "       [[ 0.   ,  0.   ,  0.   , ...,  0.   ,  0.   ,  0.072]],\n",
       "\n",
       "       [[ 0.   ,  0.   ,  0.   , ...,  0.   ,  0.   ,  0.056]],\n",
       "\n",
       "       [[ 0.   ,  0.   ,  0.   , ...,  0.   ,  0.   ,  0.104]]])"
      ]
     },
     "execution_count": 17,
     "metadata": {},
     "output_type": "execute_result"
    }
   ],
   "source": [
    "#Displaying the converted dataset \n",
    "X"
   ]
  },
  {
   "cell_type": "code",
   "execution_count": 2,
   "metadata": {},
   "outputs": [
    {
     "name": "stderr",
     "output_type": "stream",
     "text": [
      "Using TensorFlow backend.\n"
     ]
    }
   ],
   "source": [
    "#Importing neural nets libraries\n",
    "import keras"
   ]
  },
  {
   "cell_type": "code",
   "execution_count": 14,
   "metadata": {
    "collapsed": true
   },
   "outputs": [],
   "source": [
    "#Creating the network structure\n",
    "model = keras.models.Sequential()\n",
    "model.add(keras.layers.LSTM(1024,input_shape=(X.shape[1], X.shape[2])))\n",
    "model.add(keras.layers.Dense(1,activation = 'sigmoid'))\n",
    "#Building the model\n",
    "model.compile(optimizer='adam',loss = 'mae')"
   ]
  },
  {
   "cell_type": "code",
   "execution_count": 15,
   "metadata": {},
   "outputs": [
    {
     "name": "stdout",
     "output_type": "stream",
     "text": [
      "_________________________________________________________________\n",
      "Layer (type)                 Output Shape              Param #   \n",
      "=================================================================\n",
      "lstm_1 (LSTM)                (None, 1024)              4247552   \n",
      "_________________________________________________________________\n",
      "dense_1 (Dense)              (None, 1)                 1025      \n",
      "=================================================================\n",
      "Total params: 4,248,577\n",
      "Trainable params: 4,248,577\n",
      "Non-trainable params: 0\n",
      "_________________________________________________________________\n"
     ]
    }
   ],
   "source": [
    "#Checking the summary\n",
    "model.summary()"
   ]
  },
  {
   "cell_type": "code",
   "execution_count": 34,
   "metadata": {
    "scrolled": true
   },
   "outputs": [
    {
     "name": "stdout",
     "output_type": "stream",
     "text": [
      "Epoch 1/10\n",
      "26495/26495 [==============================] - 100s 4ms/step - loss: 0.0495\n",
      "Epoch 2/10\n",
      "26495/26495 [==============================] - 100s 4ms/step - loss: 0.0437\n",
      "Epoch 3/10\n",
      "26495/26495 [==============================] - 100s 4ms/step - loss: 0.0416\n",
      "Epoch 4/10\n",
      "26495/26495 [==============================] - 100s 4ms/step - loss: 0.0404\n",
      "Epoch 5/10\n",
      "26495/26495 [==============================] - 100s 4ms/step - loss: 0.0391\n",
      "Epoch 6/10\n",
      "26495/26495 [==============================] - 100s 4ms/step - loss: 0.0380\n",
      "Epoch 7/10\n",
      "26495/26495 [==============================] - 100s 4ms/step - loss: 0.0371\n",
      "Epoch 8/10\n",
      "26495/26495 [==============================] - 102s 4ms/step - loss: 0.0366\n",
      "Epoch 9/10\n",
      "26495/26495 [==============================] - 102s 4ms/step - loss: 0.0362\n",
      "Epoch 10/10\n",
      "26495/26495 [==============================] - 102s 4ms/step - loss: 0.0358\n"
     ]
    },
    {
     "data": {
      "text/plain": [
       "<keras.callbacks.History at 0x1fd83f40390>"
      ]
     },
     "execution_count": 34,
     "metadata": {},
     "output_type": "execute_result"
    }
   ],
   "source": [
    "#Training model (dont run this again)\n",
    "model.fit(X,Y,20,10)"
   ]
  },
  {
   "cell_type": "code",
   "execution_count": 36,
   "metadata": {
    "collapsed": true
   },
   "outputs": [],
   "source": [
    "##Saving the model\n",
    "json = model.to_json()\n",
    "with open('Forecast_model.json','w') as f:\n",
    "    f.write(json)\n",
    "#Saving the weights\n",
    "model.save_weights('model_weights.h5')"
   ]
  },
  {
   "cell_type": "code",
   "execution_count": 18,
   "metadata": {
    "collapsed": true
   },
   "outputs": [],
   "source": [
    "with open(\"Forecast_model.json\",'r') as f:\n",
    "    model = keras.models.model_from_json(f.read())\n",
    "model.load_weights(\"model_weights.h5\")"
   ]
  },
  {
   "cell_type": "code",
   "execution_count": 21,
   "metadata": {},
   "outputs": [
    {
     "data": {
      "image/png": "[encoded data removed]",
      "text/plain": [
       "<Figure size 432x288 with 1 Axes>"
      ]
     },
     "metadata": {},
     "output_type": "display_data"
    }
   ],
   "source": [
    "#Showing the forecast\n",
    "plt.plot(scl.inverse_transform(model.predict(X_test))[:100])\n",
    "plt.plot(scl.inverse_transform(Y_test.reshape(-1,1))[:100])\n",
    "plt.show()"
   ]
  },
  {
   "cell_type": "code",
   "execution_count": null,
   "metadata": {
    "collapsed": true,
    "scrolled": true
   },
   "outputs": [],
   "source": [
    "#Comparison with Mean -- Deviation from Ideal\n",
    "plt.plot(scl.inverse_transform(model.predict(X_test))[:100])\n",
    "plt.plot(scl.inverse_transform(np.array([Y.mean()]*100).reshape(-1, 1)))\n",
    "plt.show()"
   ]
  },
  {
   "cell_type": "code",
   "execution_count": null,
   "metadata": {
    "collapsed": true
   },
   "outputs": [],
   "source": []
  },
  {
   "cell_type": "code",
   "execution_count": null,
   "metadata": {
    "collapsed": true
   },
   "outputs": [],
   "source": []
  }
 ],
 "metadata": {
  "kernelspec": {
   "display_name": "Python 3",
   "language": "python",
   "name": "python3"
  },
  "language_info": {
   "codemirror_mode": {
    "name": "ipython",
    "version": 3
   },
   "file_extension": ".py",
   "mimetype": "text/x-python",
   "name": "python",
   "nbconvert_exporter": "python",
   "pygments_lexer": "ipython3",
   "version": "3.6.3"
  }
 },
 "nbformat": 4,
 "nbformat_minor": 2
}
