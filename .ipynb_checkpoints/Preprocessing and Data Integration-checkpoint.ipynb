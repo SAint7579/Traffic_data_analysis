{
 "cells": [
  {
   "cell_type": "code",
   "execution_count": 3,
   "metadata": {
    "collapsed": true
   },
   "outputs": [],
   "source": [
    "import os\n",
    "import pandas as pd\n",
    "import numpy as np"
   ]
  },
  {
   "cell_type": "code",
   "execution_count": 4,
   "metadata": {},
   "outputs": [],
   "source": [
    "path = './DataSet/'\n",
    "#Getting the file list\n",
    "files = []\n",
    "# r=root, d=directories, f = files\n",
    "for r, d, f in os.walk(path):\n",
    "    for file in f:\n",
    "        if '.csv' in file:\n",
    "            files.append(os.path.join(r, file))\n",
    "\n",
    "#289\n",
    "dataset = pd.read_csv(files[0])"
   ]
  },
  {
   "cell_type": "markdown",
   "metadata": {},
   "source": [
    "## DS for clustering and classification\n",
    "The goal of this block is to reshape data for analysis and mining models. The structure will be a dataset with 24 hours of data arranged in one row such marked agains the dataset/area it is extracted. The analysis will be done to recognize the types of areas on the basis of their daily traffic pattern.<br>\n",
    "<b> Structure: <b>\n",
    "- The rows will contain the areas their traffic details.\n",
    "- "
   ]
  },
  {
   "cell_type": "code",
   "execution_count": 5,
   "metadata": {},
   "outputs": [],
   "source": [
    "new_data = []\n",
    "#Adding new column tags\n",
    "new_data.append([\"Area\"] + list(dataset.iloc[:288,0]))\n",
    "c = 1\n",
    "#Iterating data through files\n",
    "for x in files:\n",
    "    dataset = pd.read_csv(x)\n",
    "    new_data.append([\"A\"+str(c)] + list(dataset.iloc[:288,1]))\n",
    "    c+=1"
   ]
  },
  {
   "cell_type": "code",
   "execution_count": 6,
   "metadata": {
    "collapsed": true
   },
   "outputs": [],
   "source": [
    "#Adding vertical rows\n",
    "data = np.array(new_data)\n",
    "dataframe = pd.DataFrame(data[1:],columns=data[0])"
   ]
  },
  {
   "cell_type": "code",
   "execution_count": 7,
   "metadata": {
    "collapsed": true
   },
   "outputs": [],
   "source": [
    "#Converting Dataframe to CSV\n",
    "dataframe.to_csv(\"Dataset.csv\")"
   ]
  },
  {
   "cell_type": "markdown",
   "metadata": {},
   "source": [
    "### Visualization Data\n",
    "This data is to be used in visualization tools to ad-hoc analyse the data."
   ]
  },
  {
   "cell_type": "code",
   "execution_count": 20,
   "metadata": {},
   "outputs": [],
   "source": [
    "import datetime"
   ]
  },
  {
   "cell_type": "code",
   "execution_count": 25,
   "metadata": {
    "collapsed": true
   },
   "outputs": [],
   "source": [
    "new_data = []\n",
    "#Adding new column tags\n",
    "new_data.append([\"Area\"] + list(dataset.iloc[:,0]))\n",
    "c = 1\n",
    "#Iterating data through files\n",
    "for x in files:\n",
    "    dataset = pd.read_csv(x)\n",
    "    new_data.append([\"A\"+str(c)] + list(dataset.iloc[:,1]))\n",
    "    c+=1"
   ]
  },
  {
   "cell_type": "code",
   "execution_count": 26,
   "metadata": {},
   "outputs": [],
   "source": [
    "vis = np.array(new_data).transpose()"
   ]
  },
  {
   "cell_type": "code",
   "execution_count": 27,
   "metadata": {
    "collapsed": true
   },
   "outputs": [],
   "source": [
    "vis[0][0] = 'Date'"
   ]
  },
  {
   "cell_type": "code",
   "execution_count": 40,
   "metadata": {},
   "outputs": [],
   "source": [
    "day_of_week = []\n",
    "month = []\n",
    "hour = []\n",
    "for i in range(1,len(vis)):\n",
    "    #Getting the day of week for detecting weekends\n",
    "    day = datetime.datetime.strptime(vis[i][0], '%Y-%m-%d %H:%M:%S').strftime('%a')\n",
    "    day_of_week.append(day)  \n",
    "    #Getting the month for vacation times\n",
    "    mon = int(datetime.datetime.strptime(vis[i][0], '%Y-%m-%d %H:%M:%S').strftime('%m'))\n",
    "    month.append(mon)\n",
    "    hr = int(datetime.datetime.strptime(vis[i][0], '%Y-%m-%d %H:%M:%S').strftime('%H'))\n",
    "    hour.append(hr)\n",
    "    \n",
    "    "
   ]
  },
  {
   "cell_type": "code",
   "execution_count": 44,
   "metadata": {},
   "outputs": [],
   "source": [
    "#Creating the dataframe\n",
    "dataset = pd.DataFrame(vis[1:,:],columns=vis[0])"
   ]
  },
  {
   "cell_type": "code",
   "execution_count": 45,
   "metadata": {
    "collapsed": true
   },
   "outputs": [],
   "source": [
    "#Adding the new columns\n",
    "dataset['day'] = day_of_week\n",
    "dataset['month'] = month\n",
    "dataset['hour'] = hour"
   ]
  },
  {
   "cell_type": "code",
   "execution_count": 46,
   "metadata": {},
   "outputs": [
    {
     "data": {
      "text/html": [
       "<div>\n",
       "<style>\n",
       "    .dataframe thead tr:only-child th {\n",
       "        text-align: right;\n",
       "    }\n",
       "\n",
       "    .dataframe thead th {\n",
       "        text-align: left;\n",
       "    }\n",
       "\n",
       "    .dataframe tbody tr th {\n",
       "        vertical-align: top;\n",
       "    }\n",
       "</style>\n",
       "<table border=\"1\" class=\"dataframe\">\n",
       "  <thead>\n",
       "    <tr style=\"text-align: right;\">\n",
       "      <th></th>\n",
       "      <th>Date</th>\n",
       "      <th>A1</th>\n",
       "      <th>A2</th>\n",
       "      <th>A3</th>\n",
       "      <th>A4</th>\n",
       "      <th>A5</th>\n",
       "      <th>A6</th>\n",
       "      <th>A7</th>\n",
       "      <th>A8</th>\n",
       "      <th>A9</th>\n",
       "      <th>...</th>\n",
       "      <th>A29</th>\n",
       "      <th>A30</th>\n",
       "      <th>A31</th>\n",
       "      <th>A32</th>\n",
       "      <th>A33</th>\n",
       "      <th>A34</th>\n",
       "      <th>A35</th>\n",
       "      <th>day</th>\n",
       "      <th>month</th>\n",
       "      <th>hour</th>\n",
       "    </tr>\n",
       "  </thead>\n",
       "  <tbody>\n",
       "    <tr>\n",
       "      <th>0</th>\n",
       "      <td>2015-10-04 00:00:00</td>\n",
       "      <td>3</td>\n",
       "      <td>6</td>\n",
       "      <td>7</td>\n",
       "      <td>11</td>\n",
       "      <td>7</td>\n",
       "      <td>10</td>\n",
       "      <td>21</td>\n",
       "      <td>7</td>\n",
       "      <td>17</td>\n",
       "      <td>...</td>\n",
       "      <td>0</td>\n",
       "      <td>28</td>\n",
       "      <td>20</td>\n",
       "      <td>8</td>\n",
       "      <td>37</td>\n",
       "      <td>113</td>\n",
       "      <td>3</td>\n",
       "      <td>Sun</td>\n",
       "      <td>10</td>\n",
       "      <td>0</td>\n",
       "    </tr>\n",
       "    <tr>\n",
       "      <th>1</th>\n",
       "      <td>2015-10-04 00:05:00</td>\n",
       "      <td>12</td>\n",
       "      <td>0</td>\n",
       "      <td>6</td>\n",
       "      <td>3</td>\n",
       "      <td>7</td>\n",
       "      <td>8</td>\n",
       "      <td>13</td>\n",
       "      <td>30</td>\n",
       "      <td>50</td>\n",
       "      <td>...</td>\n",
       "      <td>23</td>\n",
       "      <td>60</td>\n",
       "      <td>19</td>\n",
       "      <td>0</td>\n",
       "      <td>105</td>\n",
       "      <td>43</td>\n",
       "      <td>16</td>\n",
       "      <td>Sun</td>\n",
       "      <td>10</td>\n",
       "      <td>0</td>\n",
       "    </tr>\n",
       "    <tr>\n",
       "      <th>2</th>\n",
       "      <td>2015-10-04 00:10:00</td>\n",
       "      <td>4</td>\n",
       "      <td>8</td>\n",
       "      <td>10</td>\n",
       "      <td>6</td>\n",
       "      <td>10</td>\n",
       "      <td>21</td>\n",
       "      <td>13</td>\n",
       "      <td>37</td>\n",
       "      <td>47</td>\n",
       "      <td>...</td>\n",
       "      <td>13</td>\n",
       "      <td>66</td>\n",
       "      <td>14</td>\n",
       "      <td>0</td>\n",
       "      <td>93</td>\n",
       "      <td>31</td>\n",
       "      <td>9</td>\n",
       "      <td>Sun</td>\n",
       "      <td>10</td>\n",
       "      <td>0</td>\n",
       "    </tr>\n",
       "    <tr>\n",
       "      <th>3</th>\n",
       "      <td>2015-10-04 00:15:00</td>\n",
       "      <td>9</td>\n",
       "      <td>4</td>\n",
       "      <td>4</td>\n",
       "      <td>7</td>\n",
       "      <td>13</td>\n",
       "      <td>18</td>\n",
       "      <td>15</td>\n",
       "      <td>23</td>\n",
       "      <td>39</td>\n",
       "      <td>...</td>\n",
       "      <td>12</td>\n",
       "      <td>46</td>\n",
       "      <td>8</td>\n",
       "      <td>0</td>\n",
       "      <td>80</td>\n",
       "      <td>27</td>\n",
       "      <td>12</td>\n",
       "      <td>Sun</td>\n",
       "      <td>10</td>\n",
       "      <td>0</td>\n",
       "    </tr>\n",
       "    <tr>\n",
       "      <th>4</th>\n",
       "      <td>2015-10-04 00:20:00</td>\n",
       "      <td>5</td>\n",
       "      <td>4</td>\n",
       "      <td>7</td>\n",
       "      <td>3</td>\n",
       "      <td>7</td>\n",
       "      <td>12</td>\n",
       "      <td>20</td>\n",
       "      <td>21</td>\n",
       "      <td>38</td>\n",
       "      <td>...</td>\n",
       "      <td>13</td>\n",
       "      <td>51</td>\n",
       "      <td>8</td>\n",
       "      <td>0</td>\n",
       "      <td>80</td>\n",
       "      <td>27</td>\n",
       "      <td>19</td>\n",
       "      <td>Sun</td>\n",
       "      <td>10</td>\n",
       "      <td>0</td>\n",
       "    </tr>\n",
       "  </tbody>\n",
       "</table>\n",
       "<p>5 rows × 39 columns</p>\n",
       "</div>"
      ],
      "text/plain": [
       "                  Date  A1 A2  A3  A4  A5  A6  A7  A8  A9 ...  A29 A30 A31  \\\n",
       "0  2015-10-04 00:00:00   3  6   7  11   7  10  21   7  17 ...    0  28  20   \n",
       "1  2015-10-04 00:05:00  12  0   6   3   7   8  13  30  50 ...   23  60  19   \n",
       "2  2015-10-04 00:10:00   4  8  10   6  10  21  13  37  47 ...   13  66  14   \n",
       "3  2015-10-04 00:15:00   9  4   4   7  13  18  15  23  39 ...   12  46   8   \n",
       "4  2015-10-04 00:20:00   5  4   7   3   7  12  20  21  38 ...   13  51   8   \n",
       "\n",
       "  A32  A33  A34 A35  day month hour  \n",
       "0   8   37  113   3  Sun    10    0  \n",
       "1   0  105   43  16  Sun    10    0  \n",
       "2   0   93   31   9  Sun    10    0  \n",
       "3   0   80   27  12  Sun    10    0  \n",
       "4   0   80   27  19  Sun    10    0  \n",
       "\n",
       "[5 rows x 39 columns]"
      ]
     },
     "execution_count": 46,
     "metadata": {},
     "output_type": "execute_result"
    }
   ],
   "source": [
    "dataset.head()"
   ]
  },
  {
   "cell_type": "code",
   "execution_count": 47,
   "metadata": {},
   "outputs": [],
   "source": [
    "#Saving the dataset\n",
    "dataset.to_csv(\"Visualization.csv\")"
   ]
  },
  {
   "cell_type": "code",
   "execution_count": null,
   "metadata": {
    "collapsed": true
   },
   "outputs": [],
   "source": []
  }
 ],
 "metadata": {
  "kernelspec": {
   "display_name": "Python 3",
   "language": "python",
   "name": "python3"
  },
  "language_info": {
   "codemirror_mode": {
    "name": "ipython",
    "version": 3
   },
   "file_extension": ".py",
   "mimetype": "text/x-python",
   "name": "python",
   "nbconvert_exporter": "python",
   "pygments_lexer": "ipython3",
   "version": "3.6.3"
  }
 },
 "nbformat": 4,
 "nbformat_minor": 2
}
